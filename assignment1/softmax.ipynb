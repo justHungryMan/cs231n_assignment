{
 "cells": [
  {
   "cell_type": "markdown",
   "metadata": {
    "tags": [
     "pdf-title"
    ]
   },
   "source": [
    "# Softmax exercise\n",
    "\n",
    "*Complete and hand in this completed worksheet (including its outputs and any supporting code outside of the worksheet) with your assignment submission. For more details see the [assignments page](http://vision.stanford.edu/teaching/cs231n/assignments.html) on the course website.*\n",
    "\n",
    "This exercise is analogous to the SVM exercise. You will:\n",
    "\n",
    "- implement a fully-vectorized **loss function** for the Softmax classifier\n",
    "- implement the fully-vectorized expression for its **analytic gradient**\n",
    "- **check your implementation** with numerical gradient\n",
    "- use a validation set to **tune the learning rate and regularization** strength\n",
    "- **optimize** the loss function with **SGD**\n",
    "- **visualize** the final learned weights\n"
   ]
  },
  {
   "cell_type": "code",
   "execution_count": 1,
   "metadata": {
    "tags": [
     "pdf-ignore"
    ]
   },
   "outputs": [],
   "source": [
    "import random\n",
    "import numpy as np\n",
    "from cs231n.data_utils import load_CIFAR10\n",
    "import matplotlib.pyplot as plt\n",
    "\n",
    "%matplotlib inline\n",
    "plt.rcParams['figure.figsize'] = (10.0, 8.0) # set default size of plots\n",
    "plt.rcParams['image.interpolation'] = 'nearest'\n",
    "plt.rcParams['image.cmap'] = 'gray'\n",
    "\n",
    "# for auto-reloading extenrnal modules\n",
    "# see http://stackoverflow.com/questions/1907993/autoreload-of-modules-in-ipython\n",
    "%load_ext autoreload\n",
    "%autoreload 2"
   ]
  },
  {
   "cell_type": "code",
   "execution_count": 2,
   "metadata": {
    "tags": [
     "pdf-ignore"
    ]
   },
   "outputs": [
    {
     "name": "stdout",
     "output_type": "stream",
     "text": [
      "Train data shape:  (49000, 3073)\n",
      "Train labels shape:  (49000,)\n",
      "Validation data shape:  (1000, 3073)\n",
      "Validation labels shape:  (1000,)\n",
      "Test data shape:  (1000, 3073)\n",
      "Test labels shape:  (1000,)\n",
      "dev data shape:  (500, 3073)\n",
      "dev labels shape:  (500,)\n"
     ]
    }
   ],
   "source": [
    "def get_CIFAR10_data(num_training=49000, num_validation=1000, num_test=1000, num_dev=500):\n",
    "    \"\"\"\n",
    "    Load the CIFAR-10 dataset from disk and perform preprocessing to prepare\n",
    "    it for the linear classifier. These are the same steps as we used for the\n",
    "    SVM, but condensed to a single function.  \n",
    "    \"\"\"\n",
    "    # Load the raw CIFAR-10 data\n",
    "    cifar10_dir = 'cs231n/datasets/cifar-10-batches-py'\n",
    "    \n",
    "    # Cleaning up variables to prevent loading data multiple times (which may cause memory issue)\n",
    "    try:\n",
    "       del X_train, y_train\n",
    "       del X_test, y_test\n",
    "       print('Clear previously loaded data.')\n",
    "    except:\n",
    "       pass\n",
    "\n",
    "    X_train, y_train, X_test, y_test = load_CIFAR10(cifar10_dir)\n",
    "    \n",
    "    # subsample the data\n",
    "    mask = list(range(num_training, num_training + num_validation))\n",
    "    X_val = X_train[mask]\n",
    "    y_val = y_train[mask]\n",
    "    mask = list(range(num_training))\n",
    "    X_train = X_train[mask]\n",
    "    y_train = y_train[mask]\n",
    "    mask = list(range(num_test))\n",
    "    X_test = X_test[mask]\n",
    "    y_test = y_test[mask]\n",
    "    mask = np.random.choice(num_training, num_dev, replace=False)\n",
    "    X_dev = X_train[mask]\n",
    "    y_dev = y_train[mask]\n",
    "    \n",
    "    # Preprocessing: reshape the image data into rows\n",
    "    X_train = np.reshape(X_train, (X_train.shape[0], -1))\n",
    "    X_val = np.reshape(X_val, (X_val.shape[0], -1))\n",
    "    X_test = np.reshape(X_test, (X_test.shape[0], -1))\n",
    "    X_dev = np.reshape(X_dev, (X_dev.shape[0], -1))\n",
    "    \n",
    "    # Normalize the data: subtract the mean image\n",
    "    mean_image = np.mean(X_train, axis = 0)\n",
    "    X_train -= mean_image\n",
    "    X_val -= mean_image\n",
    "    X_test -= mean_image\n",
    "    X_dev -= mean_image\n",
    "    \n",
    "    # add bias dimension and transform into columns\n",
    "    X_train = np.hstack([X_train, np.ones((X_train.shape[0], 1))])\n",
    "    X_val = np.hstack([X_val, np.ones((X_val.shape[0], 1))])\n",
    "    X_test = np.hstack([X_test, np.ones((X_test.shape[0], 1))])\n",
    "    X_dev = np.hstack([X_dev, np.ones((X_dev.shape[0], 1))])\n",
    "    \n",
    "    return X_train, y_train, X_val, y_val, X_test, y_test, X_dev, y_dev\n",
    "\n",
    "\n",
    "# Invoke the above function to get our data.\n",
    "X_train, y_train, X_val, y_val, X_test, y_test, X_dev, y_dev = get_CIFAR10_data()\n",
    "print('Train data shape: ', X_train.shape)\n",
    "print('Train labels shape: ', y_train.shape)\n",
    "print('Validation data shape: ', X_val.shape)\n",
    "print('Validation labels shape: ', y_val.shape)\n",
    "print('Test data shape: ', X_test.shape)\n",
    "print('Test labels shape: ', y_test.shape)\n",
    "print('dev data shape: ', X_dev.shape)\n",
    "print('dev labels shape: ', y_dev.shape)"
   ]
  },
  {
   "cell_type": "markdown",
   "metadata": {},
   "source": [
    "## Softmax Classifier\n",
    "\n",
    "Your code for this section will all be written inside **cs231n/classifiers/softmax.py**. \n"
   ]
  },
  {
   "cell_type": "code",
   "execution_count": 53,
   "metadata": {},
   "outputs": [
    {
     "name": "stdout",
     "output_type": "stream",
     "text": [
      "loss: 2.323523\n",
      "sanity check: 2.302585\n"
     ]
    }
   ],
   "source": [
    "# First implement the naive softmax loss function with nested loops.\n",
    "# Open the file cs231n/classifiers/softmax.py and implement the\n",
    "# softmax_loss_naive function.\n",
    "\n",
    "from cs231n.classifiers.softmax import softmax_loss_naive\n",
    "import time\n",
    "\n",
    "# Generate a random softmax weight matrix and use it to compute the loss.\n",
    "W = np.random.randn(3073, 10) * 0.0001\n",
    "loss, grad = softmax_loss_naive(W, X_dev, y_dev, 0.0)\n",
    "\n",
    "# As a rough sanity check, our loss should be something close to -log(0.1).\n",
    "print('loss: %f' % loss)\n",
    "print('sanity check: %f' % (-np.log(0.1)))"
   ]
  },
  {
   "cell_type": "markdown",
   "metadata": {
    "tags": [
     "pdf-inline"
    ]
   },
   "source": [
    "**Inline Question 1**\n",
    "\n",
    "Why do we expect our loss to be close to -log(0.1)? Explain briefly.**\n",
    "\n",
    "$\\color{blue}{\\textit Your Answer:}$ *Fill this in* \n",
    "\n"
   ]
  },
  {
   "cell_type": "code",
   "execution_count": 54,
   "metadata": {},
   "outputs": [
    {
     "name": "stdout",
     "output_type": "stream",
     "text": [
      "numerical: 0.017534 analytic: 0.017534, relative error: 1.960822e-07\n",
      "numerical: 0.659633 analytic: 0.659633, relative error: 6.559033e-08\n",
      "numerical: -1.455592 analytic: -1.455592, relative error: 1.329090e-08\n",
      "numerical: 1.462173 analytic: 1.462173, relative error: 4.821300e-08\n",
      "numerical: 0.954719 analytic: 0.954718, relative error: 3.847195e-08\n",
      "numerical: 0.943812 analytic: 0.943812, relative error: 5.817194e-08\n",
      "numerical: -5.980291 analytic: -5.980291, relative error: 4.646412e-10\n",
      "numerical: -1.161100 analytic: -1.161100, relative error: 4.722042e-08\n",
      "numerical: -0.069008 analytic: -0.069009, relative error: 9.592800e-07\n",
      "numerical: -0.566531 analytic: -0.566531, relative error: 5.207303e-08\n",
      "numerical: -1.453818 analytic: -1.453818, relative error: 2.558529e-08\n",
      "numerical: -0.368517 analytic: -0.368517, relative error: 2.840654e-08\n",
      "numerical: 3.157027 analytic: 3.157027, relative error: 2.373489e-08\n",
      "numerical: 0.483383 analytic: 0.483383, relative error: 8.522025e-08\n",
      "numerical: -0.414939 analytic: -0.414939, relative error: 1.698560e-08\n",
      "numerical: -1.719114 analytic: -1.719114, relative error: 9.712248e-09\n",
      "numerical: -2.540559 analytic: -2.540559, relative error: 9.589063e-09\n",
      "numerical: -0.850786 analytic: -0.850786, relative error: 1.922089e-08\n",
      "numerical: -1.027076 analytic: -1.027076, relative error: 2.987492e-08\n",
      "numerical: 0.969911 analytic: 0.969911, relative error: 1.325331e-07\n"
     ]
    }
   ],
   "source": [
    "# Complete the implementation of softmax_loss_naive and implement a (naive)\n",
    "# version of the gradient that uses nested loops.\n",
    "loss, grad = softmax_loss_naive(W, X_dev, y_dev, 0.0)\n",
    "\n",
    "# As we did for the SVM, use numeric gradient checking as a debugging tool.\n",
    "# The numeric gradient should be close to the analytic gradient.\n",
    "from cs231n.gradient_check import grad_check_sparse\n",
    "f = lambda w: softmax_loss_naive(w, X_dev, y_dev, 0.0)[0]\n",
    "grad_numerical = grad_check_sparse(f, W, grad, 10)\n",
    "\n",
    "# similar to SVM case, do another gradient check with regularization\n",
    "loss, grad = softmax_loss_naive(W, X_dev, y_dev, 5e1)\n",
    "f = lambda w: softmax_loss_naive(w, X_dev, y_dev, 5e1)[0]\n",
    "grad_numerical = grad_check_sparse(f, W, grad, 10)"
   ]
  },
  {
   "cell_type": "code",
   "execution_count": 55,
   "metadata": {},
   "outputs": [
    {
     "name": "stdout",
     "output_type": "stream",
     "text": [
      "naive loss: 2.323523e+00 computed in 0.003964s\n",
      "vectorized loss: 2.323523e+00 computed in 0.009296s\n",
      "Loss difference: 0.000000\n",
      "Gradient difference: 0.000000\n"
     ]
    }
   ],
   "source": [
    "# Now that we have a naive implementation of the softmax loss function and its gradient,\n",
    "# implement a vectorized version in softmax_loss_vectorized.\n",
    "# The two versions should compute the same results, but the vectorized version should be\n",
    "# much faster.\n",
    "tic = time.time()\n",
    "loss_naive, grad_naive = softmax_loss_naive(W, X_dev, y_dev, 0.000005)\n",
    "toc = time.time()\n",
    "print('naive loss: %e computed in %fs' % (loss_naive, toc - tic))\n",
    "\n",
    "from cs231n.classifiers.softmax import softmax_loss_vectorized\n",
    "tic = time.time()\n",
    "loss_vectorized, grad_vectorized = softmax_loss_vectorized(W, X_dev, y_dev, 0.000005)\n",
    "toc = time.time()\n",
    "print('vectorized loss: %e computed in %fs' % (loss_vectorized, toc - tic))\n",
    "\n",
    "# As we did for the SVM, we use the Frobenius norm to compare the two versions\n",
    "# of the gradient.\n",
    "grad_difference = np.linalg.norm(grad_naive - grad_vectorized, ord='fro')\n",
    "print('Loss difference: %f' % np.abs(loss_naive - loss_vectorized))\n",
    "print('Gradient difference: %f' % grad_difference)"
   ]
  },
  {
   "cell_type": "code",
   "execution_count": 56,
   "metadata": {
    "tags": [
     "code"
    ]
   },
   "outputs": [
    {
     "name": "stdout",
     "output_type": "stream",
     "text": [
      "lr 2.518502e-07 reg 4.942482e+04 train accuracy: 0.316408 val accuracy: 0.334000\n",
      "lr 2.546357e-07 reg 4.434062e+04 train accuracy: 0.310571 val accuracy: 0.329000\n",
      "lr 2.581821e-07 reg 3.432054e+04 train accuracy: 0.319776 val accuracy: 0.334000\n",
      "lr 2.624240e-07 reg 3.107739e+04 train accuracy: 0.330082 val accuracy: 0.342000\n",
      "lr 2.635014e-07 reg 3.911602e+04 train accuracy: 0.315857 val accuracy: 0.331000\n",
      "lr 2.709793e-07 reg 1.792454e+04 train accuracy: 0.331184 val accuracy: 0.340000\n",
      "lr 2.717000e-07 reg 1.667251e+04 train accuracy: 0.333102 val accuracy: 0.340000\n",
      "lr 2.737443e-07 reg 3.073189e+04 train accuracy: 0.326796 val accuracy: 0.330000\n",
      "lr 2.751814e-07 reg 1.197111e+04 train accuracy: 0.317714 val accuracy: 0.336000\n",
      "lr 2.762560e-07 reg 3.333020e+04 train accuracy: 0.320306 val accuracy: 0.329000\n",
      "lr 2.767320e-07 reg 1.148268e+04 train accuracy: 0.321551 val accuracy: 0.335000\n",
      "lr 2.807237e-07 reg 1.497330e+04 train accuracy: 0.327837 val accuracy: 0.337000\n",
      "lr 2.816512e-07 reg 4.095006e+04 train accuracy: 0.308551 val accuracy: 0.320000\n",
      "lr 2.823711e-07 reg 3.774357e+04 train accuracy: 0.320388 val accuracy: 0.327000\n",
      "lr 2.826637e-07 reg 2.027556e+04 train accuracy: 0.334653 val accuracy: 0.350000\n",
      "lr 2.837709e-07 reg 4.756223e+04 train accuracy: 0.297735 val accuracy: 0.323000\n",
      "lr 2.852304e-07 reg 2.093467e+04 train accuracy: 0.333939 val accuracy: 0.347000\n",
      "lr 2.882223e-07 reg 2.999579e+04 train accuracy: 0.323857 val accuracy: 0.332000\n",
      "lr 2.934496e-07 reg 1.326461e+04 train accuracy: 0.326041 val accuracy: 0.351000\n",
      "lr 2.954570e-07 reg 1.375569e+04 train accuracy: 0.327837 val accuracy: 0.348000\n",
      "lr 2.961430e-07 reg 3.808768e+04 train accuracy: 0.313735 val accuracy: 0.321000\n",
      "lr 2.995866e-07 reg 4.783764e+04 train accuracy: 0.311980 val accuracy: 0.323000\n",
      "lr 3.032907e-07 reg 1.038923e+04 train accuracy: 0.327286 val accuracy: 0.342000\n",
      "lr 3.153901e-07 reg 3.734745e+04 train accuracy: 0.313041 val accuracy: 0.315000\n",
      "lr 3.174176e-07 reg 1.862974e+04 train accuracy: 0.337388 val accuracy: 0.366000\n",
      "lr 3.213213e-07 reg 4.227577e+04 train accuracy: 0.308878 val accuracy: 0.320000\n",
      "lr 3.219089e-07 reg 4.480106e+04 train accuracy: 0.309735 val accuracy: 0.324000\n",
      "lr 3.256912e-07 reg 1.282863e+04 train accuracy: 0.340469 val accuracy: 0.357000\n",
      "lr 3.263596e-07 reg 2.691203e+04 train accuracy: 0.323673 val accuracy: 0.347000\n",
      "lr 3.271336e-07 reg 4.340643e+04 train accuracy: 0.305592 val accuracy: 0.322000\n",
      "lr 3.320444e-07 reg 2.403121e+04 train accuracy: 0.335143 val accuracy: 0.351000\n",
      "lr 3.406361e-07 reg 2.826223e+04 train accuracy: 0.319000 val accuracy: 0.344000\n",
      "lr 3.417295e-07 reg 1.833997e+04 train accuracy: 0.335653 val accuracy: 0.354000\n",
      "lr 3.569474e-07 reg 2.530378e+04 train accuracy: 0.330776 val accuracy: 0.344000\n",
      "lr 3.619812e-07 reg 1.515502e+04 train accuracy: 0.345429 val accuracy: 0.363000\n",
      "lr 3.627529e-07 reg 1.569453e+04 train accuracy: 0.338898 val accuracy: 0.354000\n",
      "lr 3.681664e-07 reg 2.312232e+04 train accuracy: 0.328714 val accuracy: 0.342000\n",
      "lr 3.690742e-07 reg 3.510489e+04 train accuracy: 0.320367 val accuracy: 0.351000\n",
      "lr 3.744044e-07 reg 2.002850e+04 train accuracy: 0.338388 val accuracy: 0.351000\n",
      "lr 3.749151e-07 reg 1.346319e+04 train accuracy: 0.333041 val accuracy: 0.345000\n",
      "lr 3.786839e-07 reg 1.847911e+04 train accuracy: 0.338061 val accuracy: 0.350000\n",
      "lr 3.800091e-07 reg 3.277153e+04 train accuracy: 0.309449 val accuracy: 0.331000\n",
      "lr 3.817529e-07 reg 1.436332e+04 train accuracy: 0.338143 val accuracy: 0.357000\n",
      "lr 3.872231e-07 reg 2.772223e+04 train accuracy: 0.336061 val accuracy: 0.342000\n",
      "lr 3.876860e-07 reg 2.010697e+04 train accuracy: 0.332857 val accuracy: 0.343000\n",
      "lr 3.877806e-07 reg 1.369532e+04 train accuracy: 0.342531 val accuracy: 0.357000\n",
      "lr 3.881346e-07 reg 2.703504e+04 train accuracy: 0.334041 val accuracy: 0.351000\n",
      "lr 3.910816e-07 reg 3.372351e+04 train accuracy: 0.319184 val accuracy: 0.337000\n",
      "lr 3.917564e-07 reg 1.986540e+04 train accuracy: 0.330204 val accuracy: 0.344000\n",
      "lr 3.968793e-07 reg 3.018613e+04 train accuracy: 0.315408 val accuracy: 0.332000\n",
      "lr 3.980784e-07 reg 2.132102e+04 train accuracy: 0.332286 val accuracy: 0.354000\n",
      "lr 3.984213e-07 reg 2.683701e+04 train accuracy: 0.322837 val accuracy: 0.338000\n",
      "lr 4.000158e-07 reg 2.188792e+04 train accuracy: 0.328796 val accuracy: 0.343000\n",
      "lr 4.001875e-07 reg 3.340518e+04 train accuracy: 0.319857 val accuracy: 0.343000\n",
      "lr 4.061664e-07 reg 1.838147e+04 train accuracy: 0.333082 val accuracy: 0.346000\n",
      "lr 4.092426e-07 reg 1.208723e+04 train accuracy: 0.347020 val accuracy: 0.363000\n",
      "lr 4.149870e-07 reg 4.181319e+04 train accuracy: 0.315959 val accuracy: 0.333000\n",
      "lr 4.224049e-07 reg 1.813848e+04 train accuracy: 0.330796 val accuracy: 0.348000\n",
      "lr 4.280951e-07 reg 4.462089e+04 train accuracy: 0.293224 val accuracy: 0.309000\n",
      "lr 4.289350e-07 reg 1.329544e+04 train accuracy: 0.333367 val accuracy: 0.355000\n",
      "lr 4.297818e-07 reg 2.859327e+04 train accuracy: 0.326204 val accuracy: 0.344000\n",
      "lr 4.300124e-07 reg 1.019608e+04 train accuracy: 0.335041 val accuracy: 0.344000\n",
      "lr 4.377202e-07 reg 1.246461e+04 train accuracy: 0.346531 val accuracy: 0.351000\n",
      "lr 4.502123e-07 reg 3.293321e+04 train accuracy: 0.306592 val accuracy: 0.330000\n",
      "lr 4.572572e-07 reg 3.115054e+04 train accuracy: 0.318612 val accuracy: 0.323000\n",
      "lr 4.593023e-07 reg 1.038066e+04 train accuracy: 0.342653 val accuracy: 0.345000\n",
      "lr 4.676932e-07 reg 1.549335e+04 train accuracy: 0.339327 val accuracy: 0.362000\n",
      "lr 4.722374e-07 reg 4.906566e+04 train accuracy: 0.308041 val accuracy: 0.317000\n",
      "lr 4.744469e-07 reg 3.017033e+04 train accuracy: 0.327163 val accuracy: 0.331000\n",
      "lr 4.776654e-07 reg 1.737705e+04 train accuracy: 0.340673 val accuracy: 0.353000\n",
      "lr 4.778961e-07 reg 1.648149e+04 train accuracy: 0.343286 val accuracy: 0.360000\n",
      "lr 4.812529e-07 reg 1.298741e+04 train accuracy: 0.343551 val accuracy: 0.357000\n",
      "lr 4.861562e-07 reg 1.857552e+04 train accuracy: 0.332327 val accuracy: 0.347000\n",
      "lr 4.901128e-07 reg 2.801517e+04 train accuracy: 0.323735 val accuracy: 0.333000\n",
      "lr 4.999191e-07 reg 4.452480e+04 train accuracy: 0.293020 val accuracy: 0.311000\n",
      "lr 5.022376e-07 reg 3.076877e+04 train accuracy: 0.310122 val accuracy: 0.324000\n",
      "lr 5.067463e-07 reg 3.598065e+04 train accuracy: 0.315796 val accuracy: 0.332000\n",
      "lr 5.122359e-07 reg 2.433527e+04 train accuracy: 0.329531 val accuracy: 0.345000\n",
      "lr 5.122946e-07 reg 1.463192e+04 train accuracy: 0.336673 val accuracy: 0.349000\n",
      "lr 5.156694e-07 reg 1.061369e+04 train accuracy: 0.351755 val accuracy: 0.350000\n",
      "lr 5.205777e-07 reg 1.364550e+04 train accuracy: 0.347000 val accuracy: 0.357000\n",
      "lr 5.302086e-07 reg 4.665565e+04 train accuracy: 0.300959 val accuracy: 0.315000\n",
      "lr 5.374875e-07 reg 3.222822e+04 train accuracy: 0.324122 val accuracy: 0.326000\n",
      "lr 5.403728e-07 reg 2.234256e+04 train accuracy: 0.324531 val accuracy: 0.337000\n",
      "lr 5.408540e-07 reg 1.873838e+04 train accuracy: 0.327918 val accuracy: 0.341000\n",
      "lr 5.410403e-07 reg 1.212246e+04 train accuracy: 0.347408 val accuracy: 0.359000\n",
      "lr 5.410696e-07 reg 4.107130e+04 train accuracy: 0.313673 val accuracy: 0.315000\n",
      "lr 5.497797e-07 reg 1.427961e+04 train accuracy: 0.333347 val accuracy: 0.340000\n",
      "lr 5.546897e-07 reg 3.410972e+04 train accuracy: 0.319388 val accuracy: 0.337000\n",
      "lr 5.566551e-07 reg 1.502027e+04 train accuracy: 0.346429 val accuracy: 0.356000\n",
      "lr 5.589887e-07 reg 1.401591e+04 train accuracy: 0.343816 val accuracy: 0.352000\n",
      "lr 5.631917e-07 reg 1.370339e+04 train accuracy: 0.348612 val accuracy: 0.372000\n",
      "lr 5.669259e-07 reg 1.908218e+04 train accuracy: 0.336571 val accuracy: 0.340000\n",
      "lr 5.692711e-07 reg 2.085156e+04 train accuracy: 0.321959 val accuracy: 0.333000\n",
      "lr 5.776325e-07 reg 1.055166e+04 train accuracy: 0.353020 val accuracy: 0.372000\n",
      "lr 5.835616e-07 reg 2.573489e+04 train accuracy: 0.326510 val accuracy: 0.326000\n",
      "lr 5.851315e-07 reg 1.093659e+04 train accuracy: 0.353755 val accuracy: 0.370000\n",
      "lr 5.853530e-07 reg 3.317458e+04 train accuracy: 0.312918 val accuracy: 0.325000\n",
      "lr 6.168324e-07 reg 1.396041e+04 train accuracy: 0.340980 val accuracy: 0.360000\n",
      "lr 6.287843e-07 reg 1.187035e+04 train accuracy: 0.351980 val accuracy: 0.361000\n",
      "lr 6.302118e-07 reg 1.184640e+04 train accuracy: 0.347796 val accuracy: 0.361000\n",
      "lr 6.303967e-07 reg 2.484762e+04 train accuracy: 0.326082 val accuracy: 0.343000\n",
      "lr 6.396590e-07 reg 2.309591e+04 train accuracy: 0.328143 val accuracy: 0.345000\n",
      "lr 6.439261e-07 reg 1.394462e+04 train accuracy: 0.348551 val accuracy: 0.359000\n",
      "lr 6.707112e-07 reg 2.434368e+04 train accuracy: 0.319837 val accuracy: 0.343000\n",
      "lr 6.737918e-07 reg 2.141629e+04 train accuracy: 0.330224 val accuracy: 0.332000\n",
      "lr 6.795155e-07 reg 4.270441e+04 train accuracy: 0.305633 val accuracy: 0.323000\n",
      "lr 6.851756e-07 reg 1.686693e+04 train accuracy: 0.341347 val accuracy: 0.359000\n",
      "lr 6.970091e-07 reg 3.855804e+04 train accuracy: 0.316959 val accuracy: 0.320000\n",
      "lr 7.057337e-07 reg 1.279088e+04 train accuracy: 0.338367 val accuracy: 0.351000\n",
      "lr 7.082692e-07 reg 1.635209e+04 train accuracy: 0.336673 val accuracy: 0.347000\n",
      "lr 7.144571e-07 reg 4.256514e+04 train accuracy: 0.302980 val accuracy: 0.328000\n",
      "lr 7.155747e-07 reg 1.645617e+04 train accuracy: 0.339143 val accuracy: 0.349000\n",
      "lr 7.199238e-07 reg 1.797767e+04 train accuracy: 0.324082 val accuracy: 0.331000\n",
      "lr 7.358754e-07 reg 3.755185e+04 train accuracy: 0.296735 val accuracy: 0.322000\n",
      "lr 7.363983e-07 reg 1.689099e+04 train accuracy: 0.329265 val accuracy: 0.343000\n",
      "lr 7.468962e-07 reg 4.657901e+04 train accuracy: 0.307367 val accuracy: 0.320000\n",
      "lr 7.561353e-07 reg 1.205596e+04 train accuracy: 0.349694 val accuracy: 0.373000\n",
      "lr 7.622454e-07 reg 1.926600e+04 train accuracy: 0.331163 val accuracy: 0.351000\n",
      "lr 7.639960e-07 reg 3.579342e+04 train accuracy: 0.316918 val accuracy: 0.338000\n",
      "lr 7.687859e-07 reg 1.516999e+04 train accuracy: 0.333592 val accuracy: 0.344000\n",
      "lr 7.708329e-07 reg 2.293877e+04 train accuracy: 0.328857 val accuracy: 0.342000\n",
      "lr 7.785104e-07 reg 2.086555e+04 train accuracy: 0.328612 val accuracy: 0.314000\n",
      "lr 7.800630e-07 reg 3.350802e+04 train accuracy: 0.304837 val accuracy: 0.317000\n",
      "lr 7.860373e-07 reg 3.164239e+04 train accuracy: 0.320102 val accuracy: 0.338000\n",
      "lr 7.871276e-07 reg 1.679930e+04 train accuracy: 0.340755 val accuracy: 0.345000\n",
      "lr 7.896416e-07 reg 4.171961e+04 train accuracy: 0.303184 val accuracy: 0.319000\n",
      "lr 7.942842e-07 reg 4.716774e+04 train accuracy: 0.288224 val accuracy: 0.301000\n",
      "best validation accuracy achieved during cross-validation: 0.373000\n"
     ]
    }
   ],
   "source": [
    "# Use the validation set to tune hyperparameters (regularization strength and\n",
    "# learning rate). You should experiment with different ranges for the learning\n",
    "# rates and regularization strengths; if you are careful you should be able to\n",
    "# get a classification accuracy of over 0.35 on the validation set.\n",
    "from cs231n.classifiers import Softmax\n",
    "results = {}\n",
    "best_val = -1\n",
    "best_softmax = None\n",
    "learning_rates = [1e-7, 5e-7]\n",
    "regularization_strengths = [2.5e4, 5e4]\n",
    "\n",
    "################################################################################\n",
    "# TODO:                                                                        #\n",
    "# Use the validation set to set the learning rate and regularization strength. #\n",
    "# This should be identical to the validation that you did for the SVM; save    #\n",
    "# the best trained softmax classifer in best_softmax.                          #\n",
    "################################################################################\n",
    "# *****START OF YOUR CODE (DO NOT DELETE/MODIFY THIS LINE)*****\n",
    "for i in range(128):\n",
    "    learning_rate = np.power(10, np.random.uniform(-6.6, -6.1))\n",
    "    reg = np.power(10, np.random.uniform(4.0, 4.7))\n",
    "    softmax = Softmax()\n",
    "    \n",
    "    loss_hist = softmax.train(X_train, y_train, learning_rate=learning_rate,\n",
    "                          reg=reg, num_iters=300,\n",
    "                          batch_size=200, verbose=False)\n",
    "    \n",
    "    y_train_pred = softmax.predict(X_train)\n",
    "    train_accuracy = np.mean(y_train_pred == y_train)\n",
    "    y_val_pred   = softmax.predict(X_val)\n",
    "    val_accuracy   = np.mean(y_val_pred == y_val)\n",
    "    \n",
    "    if best_val < val_accuracy:\n",
    "        best_softmax, best_val = softmax, val_accuracy\n",
    "        \n",
    "    results[(learning_rate, reg)] = (train_accuracy, val_accuracy)\n",
    "# *****END OF YOUR CODE (DO NOT DELETE/MODIFY THIS LINE)*****\n",
    "    \n",
    "# Print out results.\n",
    "for lr, reg in sorted(results):\n",
    "    train_accuracy, val_accuracy = results[(lr, reg)]\n",
    "    print('lr %e reg %e train accuracy: %f val accuracy: %f' % (\n",
    "                lr, reg, train_accuracy, val_accuracy))\n",
    "    \n",
    "print('best validation accuracy achieved during cross-validation: %f' % best_val)"
   ]
  },
  {
   "cell_type": "code",
   "execution_count": 57,
   "metadata": {},
   "outputs": [
    {
     "name": "stdout",
     "output_type": "stream",
     "text": [
      "softmax on raw pixels final test set accuracy: 0.358000\n"
     ]
    }
   ],
   "source": [
    "# evaluate on test set\n",
    "# Evaluate the best softmax on test set\n",
    "y_test_pred = best_softmax.predict(X_test)\n",
    "test_accuracy = np.mean(y_test == y_test_pred)\n",
    "print('softmax on raw pixels final test set accuracy: %f' % (test_accuracy, ))"
   ]
  },
  {
   "cell_type": "markdown",
   "metadata": {
    "tags": [
     "pdf-inline"
    ]
   },
   "source": [
    "**Inline Question 2** - *True or False*\n",
    "\n",
    "Suppose the overall training loss is defined as the sum of the per-datapoint loss over all training examples. It is possible to add a new datapoint to a training set that would leave the SVM loss unchanged, but this is not the case with the Softmax classifier loss.\n",
    "\n",
    "$\\color{blue}{\\textit Your Answer:}$\n",
    "\n",
    "\n",
    "$\\color{blue}{\\textit Your Explanation:}$\n",
    "\n"
   ]
  },
  {
   "cell_type": "code",
   "execution_count": 58,
   "metadata": {},
   "outputs": [
    {
     "data": {
      "image/png": "[encoded data removed]",
      "text/plain": [
       "<Figure size 432x288 with 10 Axes>"
      ]
     },
     "metadata": {
      "needs_background": "light"
     },
     "output_type": "display_data"
    }
   ],
   "source": [
    "# Visualize the learned weights for each class\n",
    "w = best_softmax.W[:-1,:] # strip out the bias\n",
    "w = w.reshape(32, 32, 3, 10)\n",
    "\n",
    "w_min, w_max = np.min(w), np.max(w)\n",
    "\n",
    "classes = ['plane', 'car', 'bird', 'cat', 'deer', 'dog', 'frog', 'horse', 'ship', 'truck']\n",
    "for i in range(10):\n",
    "    plt.subplot(2, 5, i + 1)\n",
    "    \n",
    "    # Rescale the weights to be between 0 and 255\n",
    "    wimg = 255.0 * (w[:, :, :, i].squeeze() - w_min) / (w_max - w_min)\n",
    "    plt.imshow(wimg.astype('uint8'))\n",
    "    plt.axis('off')\n",
    "    plt.title(classes[i])"
   ]
  },
  {
   "cell_type": "code",
   "execution_count": null,
   "metadata": {},
   "outputs": [],
   "source": []
  }
 ],
 "metadata": {
  "kernelspec": {
   "display_name": "Python 3",
   "language": "python",
   "name": "python3"
  },
  "language_info": {
   "codemirror_mode": {
    "name": "ipython",
    "version": 3
   },
   "file_extension": ".py",
   "mimetype": "text/x-python",
   "name": "python",
   "nbconvert_exporter": "python",
   "pygments_lexer": "ipython3",
   "version": "3.7.3"
  }
 },
 "nbformat": 4,
 "nbformat_minor": 1
}
